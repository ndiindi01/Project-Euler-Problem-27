{
 "cells": [
  {
   "cell_type": "code",
   "execution_count": 1,
   "metadata": {},
   "outputs": [],
   "source": [
    "##27##"
   ]
  },
  {
   "cell_type": "code",
   "execution_count": 2,
   "metadata": {},
   "outputs": [
    {
     "name": "stdout",
     "output_type": "stream",
     "text": [
      "-59231\n"
     ]
    }
   ],
   "source": [
    "def sieve(n):\n",
    "        is_prime = [True]*n\n",
    "        is_prime[0] = False\n",
    "        is_prime[1] = False\n",
    "        for i in range(2,int(n**0.5+1)):\n",
    "                index = i*2\n",
    "                while index < n:\n",
    "                        is_prime[index] = False\n",
    "                        index = index+i\n",
    "        prime = []\n",
    "        for i in range(n):\n",
    "                if is_prime[i] == True:\n",
    "                        prime.append(i)\n",
    "        return prime\n",
    "def is_prime(n):\n",
    "        for i in range(2,int(abs(n)**0.5)+1):\n",
    "                if n%i == 0:\n",
    "                        return False\n",
    "        return True\n",
    "primes1000 = sieve(1000)\n",
    "primes = primes1000[:]\n",
    "largest = 0\n",
    "for b in primes1000:\n",
    "        for a in primes1000:\n",
    "                i = 0\n",
    "                while True:\n",
    "                        quadratic = i**2+a*i+b\n",
    "                        if quadratic not in primes:\n",
    "                                if is_prime(quadratic):\n",
    "                                        primes.append(quadratic)\n",
    "                                else:\n",
    "                                        if (i-1 > largest):\n",
    "                                                largest = i-1\n",
    "                                                a_b = a*b\n",
    "                                        break\n",
    "                        i += 1\n",
    "                i = 0\n",
    "                while True:\n",
    "                        quadratic = i**2-a*i+b\n",
    "                        if quadratic not in primes:\n",
    "                                if is_prime(quadratic) and quadratic>0:\n",
    "                                        primes.append(quadratic)\n",
    "                                else:\n",
    "                                        if (i-1 > largest):\n",
    "                                                 largest = i-1\n",
    "                                                 a_b = -1*a*b\n",
    "                                        break\n",
    "                        i += 1\n",
    "print (a_b)"
   ]
  },
  {
   "cell_type": "code",
   "execution_count": null,
   "metadata": {},
   "outputs": [],
   "source": []
  }
 ],
 "metadata": {
  "kernelspec": {
   "display_name": "Python 3",
   "language": "python",
   "name": "python3"
  },
  "language_info": {
   "codemirror_mode": {
    "name": "ipython",
    "version": 3
   },
   "file_extension": ".py",
   "mimetype": "text/x-python",
   "name": "python",
   "nbconvert_exporter": "python",
   "pygments_lexer": "ipython3",
   "version": "3.7.0"
  }
 },
 "nbformat": 4,
 "nbformat_minor": 2
}
